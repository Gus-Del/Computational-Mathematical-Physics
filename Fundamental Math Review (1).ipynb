{
 "cells": [
  {
   "cell_type": "markdown",
   "id": "e691d848",
   "metadata": {},
   "source": [
    "# Basic Refresher\n",
    "#credit Dr.Börge Göbel\n",
    "\n",
    "#credit Gus Del Aguila Jr. "
   ]
  },
  {
   "cell_type": "markdown",
   "id": "c90d914a",
   "metadata": {},
   "source": [
    "Import numpy"
   ]
  },
  {
   "cell_type": "code",
   "execution_count": 3,
   "id": "d94bfe5c",
   "metadata": {},
   "outputs": [],
   "source": [
    "import numpy as np"
   ]
  },
  {
   "cell_type": "markdown",
   "id": "ff755547",
   "metadata": {},
   "source": [
    "## Basic mathematic operations"
   ]
  },
  {
   "cell_type": "code",
   "execution_count": 5,
   "id": "cb28ade3",
   "metadata": {},
   "outputs": [
    {
     "data": {
      "text/plain": [
       "4"
      ]
     },
     "execution_count": 5,
     "metadata": {},
     "output_type": "execute_result"
    }
   ],
   "source": [
    "2+2 #Addition"
   ]
  },
  {
   "cell_type": "code",
   "execution_count": 6,
   "id": "706001de",
   "metadata": {},
   "outputs": [
    {
     "data": {
      "text/plain": [
       "3"
      ]
     },
     "execution_count": 6,
     "metadata": {},
     "output_type": "execute_result"
    }
   ],
   "source": [
    "8-5 #Subtraction"
   ]
  },
  {
   "cell_type": "code",
   "execution_count": 7,
   "id": "ee8e8473",
   "metadata": {},
   "outputs": [
    {
     "data": {
      "text/plain": [
       "16"
      ]
     },
     "execution_count": 7,
     "metadata": {},
     "output_type": "execute_result"
    }
   ],
   "source": [
    "4*4 #Multiplication"
   ]
  },
  {
   "cell_type": "code",
   "execution_count": 8,
   "id": "4d00b776",
   "metadata": {
    "scrolled": true
   },
   "outputs": [
    {
     "data": {
      "text/plain": [
       "2.5"
      ]
     },
     "execution_count": 8,
     "metadata": {},
     "output_type": "execute_result"
    }
   ],
   "source": [
    "5/2 #Division"
   ]
  },
  {
   "cell_type": "code",
   "execution_count": 9,
   "id": "670f94df",
   "metadata": {},
   "outputs": [
    {
     "data": {
      "text/plain": [
       "2"
      ]
     },
     "execution_count": 9,
     "metadata": {},
     "output_type": "execute_result"
    }
   ],
   "source": [
    "5//2 #Integral division"
   ]
  },
  {
   "cell_type": "code",
   "execution_count": 10,
   "id": "71da8f4e",
   "metadata": {},
   "outputs": [
    {
     "data": {
      "text/plain": [
       "1"
      ]
     },
     "execution_count": 10,
     "metadata": {},
     "output_type": "execute_result"
    }
   ],
   "source": [
    "5%2 #Modulus"
   ]
  },
  {
   "cell_type": "code",
   "execution_count": 11,
   "id": "b75d7b8f",
   "metadata": {},
   "outputs": [
    {
     "data": {
      "text/plain": [
       "9"
      ]
     },
     "execution_count": 11,
     "metadata": {},
     "output_type": "execute_result"
    }
   ],
   "source": [
    "3**2 #Exponent"
   ]
  },
  {
   "cell_type": "code",
   "execution_count": 12,
   "id": "ae937539",
   "metadata": {},
   "outputs": [
    {
     "data": {
      "text/plain": [
       "3.0"
      ]
     },
     "execution_count": 12,
     "metadata": {},
     "output_type": "execute_result"
    }
   ],
   "source": [
    "9**0.5 #sqrt command does not exist. It has to be imported."
   ]
  },
  {
   "cell_type": "code",
   "execution_count": 13,
   "id": "a120579b",
   "metadata": {},
   "outputs": [
    {
     "data": {
      "text/plain": [
       "3.0"
      ]
     },
     "execution_count": 13,
     "metadata": {},
     "output_type": "execute_result"
    }
   ],
   "source": [
    "np.sqrt(9)"
   ]
  },
  {
   "cell_type": "markdown",
   "id": "e6e265fa",
   "metadata": {},
   "source": [
    "Constants"
   ]
  },
  {
   "cell_type": "code",
   "execution_count": 15,
   "id": "3465d3f4",
   "metadata": {},
   "outputs": [
    {
     "data": {
      "text/plain": [
       "3.141592653589793"
      ]
     },
     "execution_count": 15,
     "metadata": {},
     "output_type": "execute_result"
    }
   ],
   "source": [
    "np.pi"
   ]
  },
  {
   "cell_type": "code",
   "execution_count": 16,
   "id": "1019aab3",
   "metadata": {},
   "outputs": [
    {
     "data": {
      "text/plain": [
       "2.718281828459045"
      ]
     },
     "execution_count": 16,
     "metadata": {},
     "output_type": "execute_result"
    }
   ],
   "source": [
    "np.e"
   ]
  },
  {
   "cell_type": "markdown",
   "id": "26ba4432",
   "metadata": {},
   "source": [
    "Define variables"
   ]
  },
  {
   "cell_type": "code",
   "execution_count": 18,
   "id": "11d6e783",
   "metadata": {},
   "outputs": [],
   "source": [
    "a = 3"
   ]
  },
  {
   "cell_type": "code",
   "execution_count": 19,
   "id": "20be76cb",
   "metadata": {},
   "outputs": [
    {
     "data": {
      "text/plain": [
       "7"
      ]
     },
     "execution_count": 19,
     "metadata": {},
     "output_type": "execute_result"
    }
   ],
   "source": [
    "4*a-5"
   ]
  },
  {
   "cell_type": "markdown",
   "id": "4d04a6a5",
   "metadata": {},
   "source": [
    "## Working with different data types"
   ]
  },
  {
   "cell_type": "markdown",
   "id": "683f8b6e",
   "metadata": {},
   "source": [
    "### Numbers (integer, float and complex)"
   ]
  },
  {
   "cell_type": "code",
   "execution_count": 22,
   "id": "7559d4d6",
   "metadata": {},
   "outputs": [
    {
     "data": {
      "text/plain": [
       "5"
      ]
     },
     "execution_count": 22,
     "metadata": {},
     "output_type": "execute_result"
    }
   ],
   "source": [
    "5"
   ]
  },
  {
   "cell_type": "code",
   "execution_count": 23,
   "id": "55d0d1a5",
   "metadata": {},
   "outputs": [
    {
     "data": {
      "text/plain": [
       "5.0"
      ]
     },
     "execution_count": 23,
     "metadata": {},
     "output_type": "execute_result"
    }
   ],
   "source": [
    "5.0"
   ]
  },
  {
   "cell_type": "code",
   "execution_count": 24,
   "id": "52bd4433",
   "metadata": {},
   "outputs": [
    {
     "data": {
      "text/plain": [
       "int"
      ]
     },
     "execution_count": 24,
     "metadata": {},
     "output_type": "execute_result"
    }
   ],
   "source": [
    "type(5)"
   ]
  },
  {
   "cell_type": "code",
   "execution_count": 25,
   "id": "553c21fe",
   "metadata": {},
   "outputs": [
    {
     "data": {
      "text/plain": [
       "float"
      ]
     },
     "execution_count": 25,
     "metadata": {},
     "output_type": "execute_result"
    }
   ],
   "source": [
    "type(5.0)"
   ]
  },
  {
   "cell_type": "markdown",
   "id": "c1582566",
   "metadata": {},
   "source": [
    "There is no need to define the data type. Python does it automatically."
   ]
  },
  {
   "cell_type": "code",
   "execution_count": 27,
   "id": "9acc3a58",
   "metadata": {},
   "outputs": [
    {
     "data": {
      "text/plain": [
       "10.0"
      ]
     },
     "execution_count": 27,
     "metadata": {},
     "output_type": "execute_result"
    }
   ],
   "source": [
    "5+5.0"
   ]
  },
  {
   "cell_type": "markdown",
   "id": "a7aa92f1",
   "metadata": {},
   "source": [
    "but of course it is possible to transform data types"
   ]
  },
  {
   "cell_type": "code",
   "execution_count": 29,
   "id": "4f2ca0c1",
   "metadata": {},
   "outputs": [
    {
     "data": {
      "text/plain": [
       "5.0"
      ]
     },
     "execution_count": 29,
     "metadata": {},
     "output_type": "execute_result"
    }
   ],
   "source": [
    "float(5)"
   ]
  },
  {
   "cell_type": "code",
   "execution_count": 30,
   "id": "2c3ea505",
   "metadata": {},
   "outputs": [
    {
     "data": {
      "text/plain": [
       "5"
      ]
     },
     "execution_count": 30,
     "metadata": {},
     "output_type": "execute_result"
    }
   ],
   "source": [
    "int(5.0)"
   ]
  },
  {
   "cell_type": "code",
   "execution_count": 31,
   "id": "8017d1bb",
   "metadata": {},
   "outputs": [
    {
     "data": {
      "text/plain": [
       "5"
      ]
     },
     "execution_count": 31,
     "metadata": {},
     "output_type": "execute_result"
    }
   ],
   "source": [
    "int(5.9)"
   ]
  },
  {
   "cell_type": "code",
   "execution_count": 32,
   "id": "5e604856",
   "metadata": {},
   "outputs": [
    {
     "data": {
      "text/plain": [
       "6"
      ]
     },
     "execution_count": 32,
     "metadata": {},
     "output_type": "execute_result"
    }
   ],
   "source": [
    "round(5.9)"
   ]
  },
  {
   "cell_type": "markdown",
   "id": "ef199bdb",
   "metadata": {},
   "source": [
    "Complex numbers\n",
    "# i is j in python."
   ]
  },
  {
   "cell_type": "code",
   "execution_count": 34,
   "id": "da788ef1",
   "metadata": {},
   "outputs": [
    {
     "data": {
      "text/plain": [
       "1j"
      ]
     },
     "execution_count": 34,
     "metadata": {},
     "output_type": "execute_result"
    }
   ],
   "source": [
    "1j"
   ]
  },
  {
   "cell_type": "code",
   "execution_count": 35,
   "id": "78fbf462",
   "metadata": {},
   "outputs": [
    {
     "data": {
      "text/plain": [
       "(-1+0j)"
      ]
     },
     "execution_count": 35,
     "metadata": {},
     "output_type": "execute_result"
    }
   ],
   "source": [
    "1j**2"
   ]
  },
  {
   "cell_type": "code",
   "execution_count": 36,
   "id": "2db3b397-517c-483e-9dfd-574ce13db193",
   "metadata": {},
   "outputs": [
    {
     "data": {
      "text/plain": [
       "1j"
      ]
     },
     "execution_count": 36,
     "metadata": {},
     "output_type": "execute_result"
    }
   ],
   "source": [
    "np.sqrt(complex(-1))"
   ]
  },
  {
   "cell_type": "code",
   "execution_count": 37,
   "id": "8e78cc19-75db-4b84-8b75-5300d09d965b",
   "metadata": {},
   "outputs": [
    {
     "data": {
      "text/plain": [
       "1j"
      ]
     },
     "execution_count": 37,
     "metadata": {},
     "output_type": "execute_result"
    }
   ],
   "source": [
    "np.sqrt(-1 + 0j)"
   ]
  },
  {
   "cell_type": "code",
   "execution_count": 38,
   "id": "354d282a",
   "metadata": {},
   "outputs": [
    {
     "data": {
      "text/plain": [
       "complex"
      ]
     },
     "execution_count": 38,
     "metadata": {},
     "output_type": "execute_result"
    }
   ],
   "source": [
    "type(3+1j)"
   ]
  },
  {
   "cell_type": "code",
   "execution_count": 39,
   "id": "3636475b",
   "metadata": {},
   "outputs": [
    {
     "data": {
      "text/plain": [
       "(-7+11j)"
      ]
     },
     "execution_count": 39,
     "metadata": {},
     "output_type": "execute_result"
    }
   ],
   "source": [
    "(3+5j)*(1+2j)"
   ]
  },
  {
   "cell_type": "markdown",
   "id": "e5c22c89",
   "metadata": {},
   "source": [
    "### Strings"
   ]
  },
  {
   "cell_type": "code",
   "execution_count": 41,
   "id": "84144ad5",
   "metadata": {},
   "outputs": [
    {
     "data": {
      "text/plain": [
       "'Hello'"
      ]
     },
     "execution_count": 41,
     "metadata": {},
     "output_type": "execute_result"
    }
   ],
   "source": [
    "'Hello'"
   ]
  },
  {
   "cell_type": "code",
   "execution_count": 42,
   "id": "d52f87ed",
   "metadata": {},
   "outputs": [
    {
     "data": {
      "text/plain": [
       "'Hello'"
      ]
     },
     "execution_count": 42,
     "metadata": {},
     "output_type": "execute_result"
    }
   ],
   "source": [
    "\"Hello\""
   ]
  },
  {
   "cell_type": "code",
   "execution_count": 43,
   "id": "124cba91",
   "metadata": {},
   "outputs": [
    {
     "data": {
      "text/plain": [
       "\"Let's get started!\""
      ]
     },
     "execution_count": 43,
     "metadata": {},
     "output_type": "execute_result"
    }
   ],
   "source": [
    "\"Let's get started!\""
   ]
  },
  {
   "cell_type": "code",
   "execution_count": 44,
   "id": "e58deecb",
   "metadata": {},
   "outputs": [],
   "source": [
    "string = \"This is a test\""
   ]
  },
  {
   "cell_type": "code",
   "execution_count": 45,
   "id": "d9120518",
   "metadata": {},
   "outputs": [
    {
     "data": {
      "text/plain": [
       "14"
      ]
     },
     "execution_count": 45,
     "metadata": {},
     "output_type": "execute_result"
    }
   ],
   "source": [
    "len(string)"
   ]
  },
  {
   "cell_type": "code",
   "execution_count": 46,
   "id": "1b72b4ce",
   "metadata": {},
   "outputs": [
    {
     "data": {
      "text/plain": [
       "'The answer is: 5.0'"
      ]
     },
     "execution_count": 46,
     "metadata": {},
     "output_type": "execute_result"
    }
   ],
   "source": [
    "\"The answer is: \"+\"5.0\""
   ]
  },
  {
   "cell_type": "code",
   "execution_count": 47,
   "id": "ee251515",
   "metadata": {},
   "outputs": [],
   "source": [
    "a = 5+8"
   ]
  },
  {
   "cell_type": "code",
   "execution_count": 48,
   "id": "f8f77703",
   "metadata": {},
   "outputs": [
    {
     "data": {
      "text/plain": [
       "'The answer is: 13'"
      ]
     },
     "execution_count": 48,
     "metadata": {},
     "output_type": "execute_result"
    }
   ],
   "source": [
    "\"The answer is: \" + str(a)"
   ]
  },
  {
   "cell_type": "markdown",
   "id": "63de019a",
   "metadata": {},
   "source": [
    "## Lists, Arrays & More"
   ]
  },
  {
   "cell_type": "markdown",
   "id": "a42c377b",
   "metadata": {},
   "source": [
    "### Lists"
   ]
  },
  {
   "cell_type": "code",
   "execution_count": 51,
   "id": "f131e6ac",
   "metadata": {},
   "outputs": [],
   "source": [
    "list1=[1,4,9]\n",
    "list2=[1,'a',3]"
   ]
  },
  {
   "cell_type": "markdown",
   "id": "2b518ba6",
   "metadata": {},
   "source": [
    "Select elements of a list"
   ]
  },
  {
   "cell_type": "code",
   "execution_count": 53,
   "id": "039627e6",
   "metadata": {},
   "outputs": [
    {
     "data": {
      "text/plain": [
       "4"
      ]
     },
     "execution_count": 53,
     "metadata": {},
     "output_type": "execute_result"
    }
   ],
   "source": [
    "list1[1]"
   ]
  },
  {
   "cell_type": "code",
   "execution_count": 54,
   "id": "c07de987-ee5f-4b77-9a29-be7078669b34",
   "metadata": {},
   "outputs": [
    {
     "data": {
      "text/plain": [
       "[1, 4]"
      ]
     },
     "execution_count": 54,
     "metadata": {},
     "output_type": "execute_result"
    }
   ],
   "source": [
    "list1[0:2]"
   ]
  },
  {
   "cell_type": "markdown",
   "id": "39712715",
   "metadata": {},
   "source": [
    "Manipulate lists"
   ]
  },
  {
   "cell_type": "code",
   "execution_count": 56,
   "id": "e7767fe3",
   "metadata": {},
   "outputs": [],
   "source": [
    "list1.append(3)"
   ]
  },
  {
   "cell_type": "code",
   "execution_count": 57,
   "id": "91a468ce-4bbc-40ac-9d38-215ed3903c2f",
   "metadata": {},
   "outputs": [
    {
     "data": {
      "text/plain": [
       "[1, 4, 9, 3]"
      ]
     },
     "execution_count": 57,
     "metadata": {},
     "output_type": "execute_result"
    }
   ],
   "source": [
    "list1"
   ]
  },
  {
   "cell_type": "code",
   "execution_count": 58,
   "id": "cf2a9dc5-1f95-477d-a53f-a9ec32eb89bb",
   "metadata": {},
   "outputs": [],
   "source": [
    "list2.remove('a')\n",
    "\n"
   ]
  },
  {
   "cell_type": "code",
   "execution_count": 59,
   "id": "95c26753-a12a-4a6b-bd4c-e5c4471f3cbb",
   "metadata": {},
   "outputs": [
    {
     "data": {
      "text/plain": [
       "[1, 3]"
      ]
     },
     "execution_count": 59,
     "metadata": {},
     "output_type": "execute_result"
    }
   ],
   "source": [
    "list2"
   ]
  },
  {
   "cell_type": "code",
   "execution_count": 60,
   "id": "c3d0dc0b-099d-4f1c-8878-294df372da72",
   "metadata": {},
   "outputs": [],
   "source": [
    "list2.append('a')"
   ]
  },
  {
   "cell_type": "code",
   "execution_count": 61,
   "id": "76664691-7854-411e-bbf5-3c8827470bab",
   "metadata": {},
   "outputs": [
    {
     "data": {
      "text/plain": [
       "[1, 3, 'a']"
      ]
     },
     "execution_count": 61,
     "metadata": {},
     "output_type": "execute_result"
    }
   ],
   "source": [
    "list2"
   ]
  },
  {
   "cell_type": "code",
   "execution_count": 62,
   "id": "d88593f4-6082-4556-9603-3399c391372f",
   "metadata": {},
   "outputs": [
    {
     "data": {
      "text/plain": [
       "[1, 3, 4, 9]"
      ]
     },
     "execution_count": 62,
     "metadata": {},
     "output_type": "execute_result"
    }
   ],
   "source": [
    "list1.sort()\n",
    "list1"
   ]
  },
  {
   "cell_type": "code",
   "execution_count": 63,
   "id": "f81ccb08",
   "metadata": {},
   "outputs": [
    {
     "data": {
      "text/plain": [
       "[99, 3, 4, 9]"
      ]
     },
     "execution_count": 63,
     "metadata": {},
     "output_type": "execute_result"
    }
   ],
   "source": [
    "list1[0]=99\n",
    "list1"
   ]
  },
  {
   "cell_type": "markdown",
   "id": "3d03440e",
   "metadata": {},
   "source": [
    "Multi-dimensional lists"
   ]
  },
  {
   "cell_type": "code",
   "execution_count": 65,
   "id": "ed707d1f-d340-42e4-9f25-a709e37fa898",
   "metadata": {},
   "outputs": [
    {
     "data": {
      "text/plain": [
       "2"
      ]
     },
     "execution_count": 65,
     "metadata": {},
     "output_type": "execute_result"
    }
   ],
   "source": [
    "list3=[[1,2,3],[1,4,9]]\n",
    "list3[0][1]"
   ]
  },
  {
   "cell_type": "markdown",
   "id": "f9f43b0e",
   "metadata": {},
   "source": [
    "Problems"
   ]
  },
  {
   "cell_type": "code",
   "execution_count": 67,
   "id": "454b347e",
   "metadata": {},
   "outputs": [
    {
     "data": {
      "text/plain": [
       "[99, 3, 4, 9, 99, 3, 4, 9]"
      ]
     },
     "execution_count": 67,
     "metadata": {},
     "output_type": "execute_result"
    }
   ],
   "source": [
    "list1*2\n",
    "#notice it just repeats the list as opposed to multiplying the numbers by 2. "
   ]
  },
  {
   "cell_type": "code",
   "execution_count": 68,
   "id": "447ba068-8b09-46ca-b353-bfff647a2835",
   "metadata": {},
   "outputs": [
    {
     "data": {
      "text/plain": [
       "[99, 3, 4, 9, 2]"
      ]
     },
     "execution_count": 68,
     "metadata": {},
     "output_type": "execute_result"
    }
   ],
   "source": [
    "list1 + [2]"
   ]
  },
  {
   "cell_type": "markdown",
   "id": "f01a4950",
   "metadata": {},
   "source": [
    "### Arrays (import numpy)\n",
    "### Lists are okay for storing small amounts of numbers/strings for which we don't want to do many calculations. \n",
    "### Arrays are needed in order to perform large complex calculations. "
   ]
  },
  {
   "cell_type": "code",
   "execution_count": 70,
   "id": "23cc7452",
   "metadata": {},
   "outputs": [],
   "source": [
    "array1 = np.array([1,7,18])\n",
    "array2 = np.array([2, 'b', 25])\n",
    "array3 = np.array([['G','U','S'], [33,32,31]])"
   ]
  },
  {
   "cell_type": "code",
   "execution_count": 71,
   "id": "7208e1e7-19a6-46f9-8cd3-9045c5322edf",
   "metadata": {},
   "outputs": [
    {
     "data": {
      "text/plain": [
       "array([ 1,  7, 18])"
      ]
     },
     "execution_count": 71,
     "metadata": {},
     "output_type": "execute_result"
    }
   ],
   "source": [
    "array1"
   ]
  },
  {
   "cell_type": "code",
   "execution_count": 72,
   "id": "dfb62358-7856-4de0-af44-a827df934952",
   "metadata": {},
   "outputs": [
    {
     "data": {
      "text/plain": [
       "array([['G', 'U', 'S'],\n",
       "       ['33', '32', '31']], dtype='<U11')"
      ]
     },
     "execution_count": 72,
     "metadata": {},
     "output_type": "execute_result"
    }
   ],
   "source": [
    "array3"
   ]
  },
  {
   "cell_type": "code",
   "execution_count": 73,
   "id": "a73bd433-d046-409f-8df1-f3f9cb13498c",
   "metadata": {},
   "outputs": [
    {
     "data": {
      "text/plain": [
       "'33'"
      ]
     },
     "execution_count": 73,
     "metadata": {},
     "output_type": "execute_result"
    }
   ],
   "source": [
    "array3[1][0]"
   ]
  },
  {
   "cell_type": "code",
   "execution_count": 74,
   "id": "3907807a-98e3-4488-975d-b5ea69a35f94",
   "metadata": {},
   "outputs": [
    {
     "data": {
      "text/plain": [
       "array(['2', 'b'], dtype='<U11')"
      ]
     },
     "execution_count": 74,
     "metadata": {},
     "output_type": "execute_result"
    }
   ],
   "source": [
    "array2[0:2]"
   ]
  },
  {
   "cell_type": "code",
   "execution_count": 75,
   "id": "dc040c3b-ed53-45d1-9805-acbcd00113a5",
   "metadata": {},
   "outputs": [
    {
     "data": {
      "text/plain": [
       "'32'"
      ]
     },
     "execution_count": 75,
     "metadata": {},
     "output_type": "execute_result"
    }
   ],
   "source": [
    "array3[1][1]"
   ]
  },
  {
   "cell_type": "code",
   "execution_count": 76,
   "id": "31d23ad3-046f-435a-afcd-d053f5220567",
   "metadata": {},
   "outputs": [
    {
     "data": {
      "text/plain": [
       "'32'"
      ]
     },
     "execution_count": 76,
     "metadata": {},
     "output_type": "execute_result"
    }
   ],
   "source": [
    "array3[1,1]"
   ]
  },
  {
   "cell_type": "code",
   "execution_count": 77,
   "id": "feef4732-910c-4f6e-860e-924508a568b6",
   "metadata": {},
   "outputs": [
    {
     "data": {
      "text/plain": [
       "'S'"
      ]
     },
     "execution_count": 77,
     "metadata": {},
     "output_type": "execute_result"
    }
   ],
   "source": [
    "array3[0,2]"
   ]
  },
  {
   "cell_type": "code",
   "execution_count": 78,
   "id": "74af3c70-8470-4739-9bac-ae292139f20d",
   "metadata": {},
   "outputs": [
    {
     "data": {
      "text/plain": [
       "array(['G', 'U', 'S'], dtype='<U11')"
      ]
     },
     "execution_count": 78,
     "metadata": {},
     "output_type": "execute_result"
    }
   ],
   "source": [
    "array3[0][0:3]"
   ]
  },
  {
   "cell_type": "markdown",
   "id": "ff2f03fa",
   "metadata": {},
   "source": [
    "Select elements"
   ]
  },
  {
   "cell_type": "markdown",
   "id": "d2730874",
   "metadata": {},
   "source": [
    "Manipulate"
   ]
  },
  {
   "cell_type": "code",
   "execution_count": 81,
   "id": "0dc40268",
   "metadata": {},
   "outputs": [
    {
     "data": {
      "text/plain": [
       "array([ 1,  7, 18,  7])"
      ]
     },
     "execution_count": 81,
     "metadata": {},
     "output_type": "execute_result"
    }
   ],
   "source": [
    "np.append(array1,7)"
   ]
  },
  {
   "cell_type": "code",
   "execution_count": 82,
   "id": "0d659b17-01a3-4814-b650-d531529341de",
   "metadata": {},
   "outputs": [
    {
     "data": {
      "text/plain": [
       "array([ 1,  7, 18])"
      ]
     },
     "execution_count": 82,
     "metadata": {},
     "output_type": "execute_result"
    }
   ],
   "source": [
    "array1\n",
    "#notice 7 was not included."
   ]
  },
  {
   "cell_type": "code",
   "execution_count": 83,
   "id": "2600b295-f66a-4f3f-bd86-b1603256d036",
   "metadata": {},
   "outputs": [
    {
     "data": {
      "text/plain": [
       "array([ 1,  7, 18,  7])"
      ]
     },
     "execution_count": 83,
     "metadata": {},
     "output_type": "execute_result"
    }
   ],
   "source": [
    "array1=np.append(array1,7)\n",
    "array1\n",
    "#notice 7 is now appended to array 1. "
   ]
  },
  {
   "cell_type": "code",
   "execution_count": 84,
   "id": "71d6b1eb-a545-4e43-8476-9bbcfe3b285c",
   "metadata": {},
   "outputs": [
    {
     "data": {
      "text/plain": [
       "array([  1,   7,  18,   7,  98,  99, 100])"
      ]
     },
     "execution_count": 84,
     "metadata": {},
     "output_type": "execute_result"
    }
   ],
   "source": [
    "array1=np.append(array1,np.array([98,99,100]))\n",
    "array1"
   ]
  },
  {
   "cell_type": "markdown",
   "id": "0761b8b1",
   "metadata": {},
   "source": [
    "Manipulate multi-dimensional arrays"
   ]
  },
  {
   "cell_type": "code",
   "execution_count": 86,
   "id": "ea7b5ce9",
   "metadata": {},
   "outputs": [
    {
     "data": {
      "text/plain": [
       "array([['G', 'U', 'S'],\n",
       "       ['33', '32', '31']], dtype='<U11')"
      ]
     },
     "execution_count": 86,
     "metadata": {},
     "output_type": "execute_result"
    }
   ],
   "source": [
    "array3"
   ]
  },
  {
   "cell_type": "code",
   "execution_count": 87,
   "id": "f9c20502",
   "metadata": {},
   "outputs": [
    {
     "data": {
      "text/plain": [
       "array(['G', 'U', 'S', '33', '32', '31', '9', '8', '7', '6', '5', '4'],\n",
       "      dtype='<U11')"
      ]
     },
     "execution_count": 87,
     "metadata": {},
     "output_type": "execute_result"
    }
   ],
   "source": [
    "np.append(array3, np.array([9,8,7,6,5,4]))\n",
    "#notice this gives one single array of array3 plus 9,8,7,....4. "
   ]
  },
  {
   "cell_type": "code",
   "execution_count": 88,
   "id": "935fb5c2-0db0-4e26-8b41-9ea06d7c79cc",
   "metadata": {},
   "outputs": [
    {
     "data": {
      "text/plain": [
       "array([['G', 'U', 'S'],\n",
       "       ['33', '32', '31'],\n",
       "       ['9', '8', '7']], dtype='<U11')"
      ]
     },
     "execution_count": 88,
     "metadata": {},
     "output_type": "execute_result"
    }
   ],
   "source": [
    "np.append(array3, np.array([[9,8,7]]), axis = 0)\n",
    "#notice array3 starts with 2 [[ brackets, so we must do the same with this new array so it has the same rank. \n",
    "#Also, we must axis = 0, which means append this array on the first level so to speak. \n",
    "#axis=0: Apply the calculation “column-wise”\n",
    "#axis=1: Apply the calculation “row-wise”"
   ]
  },
  {
   "cell_type": "code",
   "execution_count": 89,
   "id": "2e199705-45b6-4a23-a9ff-b15c819af64c",
   "metadata": {},
   "outputs": [
    {
     "data": {
      "text/plain": [
       "array([['G', 'U', 'S', '33'],\n",
       "       ['33', '32', '31', '44']], dtype='<U11')"
      ]
     },
     "execution_count": 89,
     "metadata": {},
     "output_type": "execute_result"
    }
   ],
   "source": [
    "np.append(array3, np.array([[33],[44]]), axis = 1)\n",
    "#notice this adds 33 to the first row and 44 to the second row of array3. \n",
    "#axis=1: Apply the calculation “row-wise”"
   ]
  },
  {
   "cell_type": "markdown",
   "id": "1d6e46aa",
   "metadata": {},
   "source": [
    "Maths"
   ]
  },
  {
   "cell_type": "code",
   "execution_count": 91,
   "id": "cbcc182d-c440-4f8e-ac35-4acfbbd4daf6",
   "metadata": {},
   "outputs": [
    {
     "data": {
      "text/plain": [
       "array([  1,   7,  18,   7,  98,  99, 100])"
      ]
     },
     "execution_count": 91,
     "metadata": {},
     "output_type": "execute_result"
    }
   ],
   "source": [
    "array1"
   ]
  },
  {
   "cell_type": "code",
   "execution_count": 92,
   "id": "7da6f0dd-3975-49e9-bd5c-5429ff66d92d",
   "metadata": {},
   "outputs": [
    {
     "data": {
      "text/plain": [
       "array([  2,  14,  36,  14, 196, 198, 200])"
      ]
     },
     "execution_count": 92,
     "metadata": {},
     "output_type": "execute_result"
    }
   ],
   "source": [
    "array1*2"
   ]
  },
  {
   "cell_type": "code",
   "execution_count": 93,
   "id": "1740bae4-b3e9-4ba4-8c8f-f9a986dbcd73",
   "metadata": {},
   "outputs": [
    {
     "data": {
      "text/plain": [
       "array([  4,  10,  21,  10, 101, 102, 103])"
      ]
     },
     "execution_count": 93,
     "metadata": {},
     "output_type": "execute_result"
    }
   ],
   "source": [
    "array1+3\n"
   ]
  },
  {
   "cell_type": "markdown",
   "id": "74215be2",
   "metadata": {},
   "source": [
    "### Vectors and Matrices"
   ]
  },
  {
   "cell_type": "markdown",
   "id": "d06dbec0",
   "metadata": {},
   "source": [
    "### Vectors"
   ]
  },
  {
   "cell_type": "code",
   "execution_count": 96,
   "id": "24b8881a",
   "metadata": {},
   "outputs": [],
   "source": [
    "vec1 = np.array([1,1,1])\n",
    "vec2 = np.array([2,3,4])"
   ]
  },
  {
   "cell_type": "markdown",
   "id": "18a66c5e",
   "metadata": {},
   "source": [
    "Dot and cross product"
   ]
  },
  {
   "cell_type": "code",
   "execution_count": 98,
   "id": "fce06233",
   "metadata": {},
   "outputs": [
    {
     "data": {
      "text/plain": [
       "9"
      ]
     },
     "execution_count": 98,
     "metadata": {},
     "output_type": "execute_result"
    }
   ],
   "source": [
    "np.dot(vec1,vec2)   #dot product of two vectors"
   ]
  },
  {
   "cell_type": "code",
   "execution_count": 99,
   "id": "fcf2e56b-e326-4ace-9f0d-7e096c9a3f97",
   "metadata": {},
   "outputs": [
    {
     "data": {
      "text/plain": [
       "array([ 1, -2,  1])"
      ]
     },
     "execution_count": 99,
     "metadata": {},
     "output_type": "execute_result"
    }
   ],
   "source": [
    "np.cross(vec1,vec2)  # cross product of two vectors"
   ]
  },
  {
   "cell_type": "code",
   "execution_count": 100,
   "id": "2028af8c-d043-453a-9c7b-07f8c36fe485",
   "metadata": {},
   "outputs": [
    {
     "data": {
      "text/plain": [
       "array([-1,  2, -1])"
      ]
     },
     "execution_count": 100,
     "metadata": {},
     "output_type": "execute_result"
    }
   ],
   "source": [
    "np.cross(vec2,vec1)  #order matters for cross product"
   ]
  },
  {
   "cell_type": "markdown",
   "id": "50850406",
   "metadata": {},
   "source": [
    "Norm"
   ]
  },
  {
   "cell_type": "code",
   "execution_count": 102,
   "id": "884449c9",
   "metadata": {},
   "outputs": [
    {
     "data": {
      "text/plain": [
       "5.385164807134504"
      ]
     },
     "execution_count": 102,
     "metadata": {},
     "output_type": "execute_result"
    }
   ],
   "source": [
    "np.linalg.norm(vec2)"
   ]
  },
  {
   "cell_type": "code",
   "execution_count": 103,
   "id": "c2c2da33-17f3-49bb-b746-ef47f100b125",
   "metadata": {},
   "outputs": [
    {
     "data": {
      "text/plain": [
       "5.385164807134504"
      ]
     },
     "execution_count": 103,
     "metadata": {},
     "output_type": "execute_result"
    }
   ],
   "source": [
    "np.sqrt(vec2[0]**2 +vec2[1]**2 + vec2[2]**2)  #norm by using sqrt and squaring,manually. "
   ]
  },
  {
   "cell_type": "code",
   "execution_count": 104,
   "id": "5af64520-a246-4885-80a0-3b48b0c0a074",
   "metadata": {},
   "outputs": [
    {
     "data": {
      "text/plain": [
       "5.385164807134504"
      ]
     },
     "execution_count": 104,
     "metadata": {},
     "output_type": "execute_result"
    }
   ],
   "source": [
    "np.sqrt(sum(vec2**2))  #Another method to get the norm. "
   ]
  },
  {
   "cell_type": "markdown",
   "id": "1cfcf2a6",
   "metadata": {},
   "source": [
    "### Matrices"
   ]
  },
  {
   "cell_type": "code",
   "execution_count": 106,
   "id": "1333904e",
   "metadata": {},
   "outputs": [],
   "source": [
    "mat1 = np.array([[1,-2,3],[-4,5,-6],[7,-8,9]])\n",
    "mat2 = np.array([[1,1,1],[0,2,2],[0,0,3]])"
   ]
  },
  {
   "cell_type": "code",
   "execution_count": 107,
   "id": "1995fb12-1af4-45d2-b909-8909689e3e33",
   "metadata": {},
   "outputs": [
    {
     "data": {
      "text/plain": [
       "array([[ 1, -2,  3],\n",
       "       [-4,  5, -6],\n",
       "       [ 7, -8,  9]])"
      ]
     },
     "execution_count": 107,
     "metadata": {},
     "output_type": "execute_result"
    }
   ],
   "source": [
    "mat1"
   ]
  },
  {
   "cell_type": "code",
   "execution_count": 108,
   "id": "6f1582cc-2e92-415c-a2bc-793d320dcb23",
   "metadata": {},
   "outputs": [
    {
     "data": {
      "text/plain": [
       "array([[1, 1, 1],\n",
       "       [0, 2, 2],\n",
       "       [0, 0, 3]])"
      ]
     },
     "execution_count": 108,
     "metadata": {},
     "output_type": "execute_result"
    }
   ],
   "source": [
    "mat2"
   ]
  },
  {
   "cell_type": "markdown",
   "id": "e637cfb5",
   "metadata": {},
   "source": [
    "Multiplication"
   ]
  },
  {
   "cell_type": "code",
   "execution_count": 110,
   "id": "180ce33c",
   "metadata": {},
   "outputs": [
    {
     "data": {
      "text/plain": [
       "array([[  1,  -2,   3],\n",
       "       [  0,  10, -12],\n",
       "       [  0,   0,  27]])"
      ]
     },
     "execution_count": 110,
     "metadata": {},
     "output_type": "execute_result"
    }
   ],
   "source": [
    "mat1*mat2"
   ]
  },
  {
   "cell_type": "code",
   "execution_count": 111,
   "id": "027792c7-d036-44ec-966b-2b185e0902d4",
   "metadata": {},
   "outputs": [
    {
     "data": {
      "text/plain": [
       "array([[  1,  -3,   6],\n",
       "       [ -4,   6, -12],\n",
       "       [  7,  -9,  18]])"
      ]
     },
     "execution_count": 111,
     "metadata": {},
     "output_type": "execute_result"
    }
   ],
   "source": [
    "np.matmul(mat1,mat2)\n",
    "#This is the correct way to multiply matrices. Notice the difference between above and below. "
   ]
  },
  {
   "cell_type": "code",
   "execution_count": 112,
   "id": "1837b679-20e0-4c45-b319-ac567a81a086",
   "metadata": {},
   "outputs": [
    {
     "data": {
      "text/plain": [
       "array([[  4,  -5,   6],\n",
       "       [  6,  -6,   6],\n",
       "       [ 21, -24,  27]])"
      ]
     },
     "execution_count": 112,
     "metadata": {},
     "output_type": "execute_result"
    }
   ],
   "source": [
    "np.matmul(mat2,mat1)"
   ]
  },
  {
   "cell_type": "markdown",
   "id": "34cc24c1",
   "metadata": {},
   "source": [
    "Determinant and inverse"
   ]
  },
  {
   "cell_type": "code",
   "execution_count": 114,
   "id": "a2074c1e",
   "metadata": {},
   "outputs": [
    {
     "data": {
      "text/plain": [
       "6.0"
      ]
     },
     "execution_count": 114,
     "metadata": {},
     "output_type": "execute_result"
    }
   ],
   "source": [
    "np.linalg.det(mat2)"
   ]
  },
  {
   "cell_type": "code",
   "execution_count": 115,
   "id": "cc63dc8c-a483-47a9-ab47-0c31cb254fd1",
   "metadata": {},
   "outputs": [
    {
     "data": {
      "text/plain": [
       "array([[ 1.        , -0.5       ,  0.        ],\n",
       "       [ 0.        ,  0.5       , -0.33333333],\n",
       "       [ 0.        ,  0.        ,  0.33333333]])"
      ]
     },
     "execution_count": 115,
     "metadata": {},
     "output_type": "execute_result"
    }
   ],
   "source": [
    "np.linalg.inv(mat2)"
   ]
  },
  {
   "cell_type": "code",
   "execution_count": 116,
   "id": "f8df205f-3a41-4ebe-b979-137fd1a3f546",
   "metadata": {},
   "outputs": [
    {
     "data": {
      "text/plain": [
       "array([[1.00000000e+00, 0.00000000e+00, 0.00000000e+00],\n",
       "       [0.00000000e+00, 1.00000000e+00, 5.55111512e-17],\n",
       "       [0.00000000e+00, 0.00000000e+00, 1.00000000e+00]])"
      ]
     },
     "execution_count": 116,
     "metadata": {},
     "output_type": "execute_result"
    }
   ],
   "source": [
    "np.matmul(np.linalg.inv(mat2), mat2)"
   ]
  },
  {
   "cell_type": "markdown",
   "id": "04d94a06-5dd6-4fea-a6e2-34794fae988e",
   "metadata": {},
   "source": [
    "Note for future reference:\n",
    "If the determinant of a matrix is zero, then it is singular and does not have an inverse. "
   ]
  },
  {
   "cell_type": "markdown",
   "id": "3c83d463",
   "metadata": {},
   "source": [
    "### Dictionaries"
   ]
  },
  {
   "cell_type": "code",
   "execution_count": 119,
   "id": "34d5c319",
   "metadata": {},
   "outputs": [],
   "source": [
    "dict1={'brand':'Mercedes', 'model':'AMG One', \n",
    "       'year': '2022'}"
   ]
  },
  {
   "cell_type": "code",
   "execution_count": 120,
   "id": "f67f02ba-2e7c-4d4e-9e51-e8aa3ada2975",
   "metadata": {},
   "outputs": [
    {
     "data": {
      "text/plain": [
       "{'brand': 'Mercedes', 'model': 'AMG One', 'year': '2022'}"
      ]
     },
     "execution_count": 120,
     "metadata": {},
     "output_type": "execute_result"
    }
   ],
   "source": [
    "dict1"
   ]
  },
  {
   "cell_type": "markdown",
   "id": "1fce0d30",
   "metadata": {},
   "source": [
    "Select entries"
   ]
  },
  {
   "cell_type": "code",
   "execution_count": 122,
   "id": "612b510d",
   "metadata": {},
   "outputs": [
    {
     "data": {
      "text/plain": [
       "'2022'"
      ]
     },
     "execution_count": 122,
     "metadata": {},
     "output_type": "execute_result"
    }
   ],
   "source": [
    "dict1['year']\n",
    "#In a dictionary you write the key when searching for a value, not the index/number. "
   ]
  },
  {
   "cell_type": "code",
   "execution_count": 123,
   "id": "f81f0166",
   "metadata": {},
   "outputs": [
    {
     "data": {
      "text/plain": [
       "dict_keys(['brand', 'model', 'year'])"
      ]
     },
     "execution_count": 123,
     "metadata": {},
     "output_type": "execute_result"
    }
   ],
   "source": [
    "dict1.keys()"
   ]
  },
  {
   "cell_type": "code",
   "execution_count": 124,
   "id": "36c50246-a9ce-45f5-97a6-751d8a6775c2",
   "metadata": {},
   "outputs": [
    {
     "data": {
      "text/plain": [
       "dict_values(['Mercedes', 'AMG One', '2022'])"
      ]
     },
     "execution_count": 124,
     "metadata": {},
     "output_type": "execute_result"
    }
   ],
   "source": [
    "dict1.values()"
   ]
  },
  {
   "cell_type": "markdown",
   "id": "ad5b9d7b",
   "metadata": {},
   "source": [
    "Manipulate entries"
   ]
  },
  {
   "cell_type": "code",
   "execution_count": 126,
   "id": "6d329424-ee1d-4264-9d57-32d7a5287373",
   "metadata": {},
   "outputs": [
    {
     "data": {
      "text/plain": [
       "{'brand': 'Mercedes', 'model': 'AMG One', 'year': 2024, 'country': 'Germany'}"
      ]
     },
     "execution_count": 126,
     "metadata": {},
     "output_type": "execute_result"
    }
   ],
   "source": [
    "dict1['year'] = 2024\n",
    "dict1['country'] = 'Germany'\n",
    "dict1\n",
    "#notice how we changed 2022 to 2024, and also added the key:value to country:Germany. "
   ]
  },
  {
   "cell_type": "markdown",
   "id": "898f34a9",
   "metadata": {},
   "source": [
    "## Loops & If statements"
   ]
  },
  {
   "cell_type": "markdown",
   "id": "0223b044",
   "metadata": {},
   "source": [
    "### While loop"
   ]
  },
  {
   "cell_type": "code",
   "execution_count": 129,
   "id": "6b128817",
   "metadata": {},
   "outputs": [
    {
     "name": "stdout",
     "output_type": "stream",
     "text": [
      "2\n",
      "3\n",
      "4\n",
      "5\n",
      "6\n",
      "7\n",
      "8\n",
      "9\n",
      "10\n",
      "11\n"
     ]
    }
   ],
   "source": [
    "i = 1\n",
    "while i <= 10: \n",
    "    i = i + 1\n",
    "    print(i)\n",
    "    "
   ]
  },
  {
   "cell_type": "markdown",
   "id": "22a7713e",
   "metadata": {},
   "source": [
    "### While loop with if statement"
   ]
  },
  {
   "cell_type": "code",
   "execution_count": 131,
   "id": "08dac301",
   "metadata": {},
   "outputs": [
    {
     "name": "stdout",
     "output_type": "stream",
     "text": [
      "odd\n",
      "2\n",
      "odd\n",
      "4\n",
      "odd\n",
      "6\n",
      "odd\n",
      "8\n",
      "odd\n",
      "10\n"
     ]
    }
   ],
   "source": [
    "# i % 2 will give the remainder after being divided by 2, hence even numbers. \n",
    "# If the remainder is equal to 0, then we know it is an even number. \n",
    "i = 1\n",
    "\n",
    "while i <= 10:\n",
    "    if i % 2 == 0: \n",
    "        print(i)\n",
    "    else: \n",
    "        print(\"odd\")\n",
    "    i = i + 1\n",
    "    "
   ]
  },
  {
   "cell_type": "markdown",
   "id": "25679e12",
   "metadata": {},
   "source": [
    "### For loop"
   ]
  },
  {
   "cell_type": "code",
   "execution_count": 133,
   "id": "eb176738-8d62-46bb-a4dc-9f0459b33a8a",
   "metadata": {},
   "outputs": [
    {
     "name": "stdout",
     "output_type": "stream",
     "text": [
      "odd\n",
      "2\n",
      "odd\n",
      "4\n",
      "odd\n",
      "6\n",
      "odd\n",
      "8\n",
      "odd\n",
      "10\n",
      "odd\n"
     ]
    }
   ],
   "source": [
    "for i in [1,2,3,4,5,6,7,8,9,10,11]: \n",
    "    if i % 2 == 0: \n",
    "        print(i)\n",
    "    else: \n",
    "        print(\"odd\")\n",
    "    i = i + 1"
   ]
  },
  {
   "cell_type": "code",
   "execution_count": 134,
   "id": "1a30ec8d-ebc7-426a-bc90-d947698dccf7",
   "metadata": {},
   "outputs": [
    {
     "name": "stdout",
     "output_type": "stream",
     "text": [
      "odd\n",
      "2\n",
      "odd\n",
      "4\n",
      "odd\n",
      "6\n",
      "odd\n",
      "8\n",
      "odd\n",
      "10\n",
      "odd\n"
     ]
    }
   ],
   "source": [
    "for i in range (1,12): \n",
    "    if i % 2 == 0: \n",
    "        print(i)\n",
    "    else: \n",
    "        print(\"odd\")\n",
    "    i = i + 1"
   ]
  },
  {
   "cell_type": "code",
   "execution_count": 135,
   "id": "82096ab6",
   "metadata": {},
   "outputs": [
    {
     "name": "stdout",
     "output_type": "stream",
     "text": [
      "1\n",
      "2\n",
      "3\n",
      "4\n",
      "5\n"
     ]
    }
   ],
   "source": [
    "for i in [1,2,3,4,5]:\n",
    "    print(i)"
   ]
  },
  {
   "cell_type": "code",
   "execution_count": 136,
   "id": "cc1fe232-1c6b-4a0c-8b88-4992978bca33",
   "metadata": {},
   "outputs": [
    {
     "name": "stdout",
     "output_type": "stream",
     "text": [
      "t\n",
      "e\n",
      "s\n",
      "t\n"
     ]
    }
   ],
   "source": [
    "for i in 'test':\n",
    "    print(i)"
   ]
  },
  {
   "cell_type": "code",
   "execution_count": 137,
   "id": "ce2c64f4-b676-4f3b-a50d-c0ff39e9dfed",
   "metadata": {},
   "outputs": [
    {
     "data": {
      "text/plain": [
       "[1, 8, 27, 64, 125, 216, 343, 512]"
      ]
     },
     "execution_count": 137,
     "metadata": {},
     "output_type": "execute_result"
    }
   ],
   "source": [
    "storelist = []\n",
    "for i in range (1,9):\n",
    "    storelist.append(i**3)\n",
    "storelist"
   ]
  },
  {
   "cell_type": "markdown",
   "id": "9a42f405",
   "metadata": {},
   "source": [
    "## Work with files"
   ]
  },
  {
   "cell_type": "markdown",
   "id": "59fc0b05",
   "metadata": {},
   "source": [
    "### Save"
   ]
  },
  {
   "cell_type": "markdown",
   "id": "ba81e7c0",
   "metadata": {},
   "source": [
    "Save the whole list at once"
   ]
  },
  {
   "cell_type": "code",
   "execution_count": 141,
   "id": "c89543d2",
   "metadata": {},
   "outputs": [],
   "source": [
    "np.savetxt('storelist1.dat', storelist, fmt = '%s')\n",
    "np.savetxt('storelist2.dat', storelist)\n",
    "#note the fmt = '%s', storelist2 will have long floating numbers, etc while storelist1 will not. "
   ]
  },
  {
   "cell_type": "markdown",
   "id": "2098a20f",
   "metadata": {},
   "source": [
    "Save each line one after another"
   ]
  },
  {
   "cell_type": "code",
   "execution_count": 143,
   "id": "9933bcf0",
   "metadata": {},
   "outputs": [],
   "source": [
    "file = open('storelist3.dat', 'w')\n",
    "for i in range (1,9):\n",
    "    file.write(str(i**3))\n",
    "    file.write('\\n')\n",
    "file.close()"
   ]
  },
  {
   "cell_type": "code",
   "execution_count": 144,
   "id": "8276e7d5-d02b-4fdf-b18e-09bb7501c463",
   "metadata": {},
   "outputs": [],
   "source": [
    "with open('storelist4.dat', 'w') as file:\n",
    "    for i in range (1,9):\n",
    "        file.write(str(i**3))\n",
    "        file.write('\\n')"
   ]
  },
  {
   "cell_type": "markdown",
   "id": "fcfd7618",
   "metadata": {},
   "source": [
    "### Load"
   ]
  },
  {
   "cell_type": "code",
   "execution_count": 146,
   "id": "dc55e379",
   "metadata": {},
   "outputs": [
    {
     "data": {
      "text/plain": [
       "array([  1.,   8.,  27.,  64., 125., 216., 343., 512.])"
      ]
     },
     "execution_count": 146,
     "metadata": {},
     "output_type": "execute_result"
    }
   ],
   "source": [
    "loadlist = np.loadtxt('storelist1.dat')\n",
    "loadlist"
   ]
  },
  {
   "cell_type": "code",
   "execution_count": 147,
   "id": "06912d12-e3f6-4d2f-8d38-c7766a220e5e",
   "metadata": {},
   "outputs": [
    {
     "data": {
      "text/plain": [
       "27.0"
      ]
     },
     "execution_count": 147,
     "metadata": {},
     "output_type": "execute_result"
    }
   ],
   "source": [
    "loadlist[2]"
   ]
  },
  {
   "cell_type": "markdown",
   "id": "ea05e2b0",
   "metadata": {},
   "source": [
    "## Functions"
   ]
  },
  {
   "cell_type": "markdown",
   "id": "546f29c8",
   "metadata": {},
   "source": [
    "def _name_(_arguments_):\n",
    "\n",
    "    commands"
   ]
  },
  {
   "cell_type": "markdown",
   "id": "1f771f79",
   "metadata": {},
   "source": [
    "First function without arguments"
   ]
  },
  {
   "cell_type": "code",
   "execution_count": 151,
   "id": "2f64c11f",
   "metadata": {},
   "outputs": [
    {
     "name": "stdout",
     "output_type": "stream",
     "text": [
      "Hi mother!\n"
     ]
    }
   ],
   "source": [
    "def say_Hello():\n",
    "    print('Hi mother!')\n",
    "\n",
    "say_Hello()"
   ]
  },
  {
   "cell_type": "markdown",
   "id": "12767034",
   "metadata": {},
   "source": [
    "Create your own dot product function"
   ]
  },
  {
   "cell_type": "code",
   "execution_count": 153,
   "id": "b0511f87",
   "metadata": {},
   "outputs": [
    {
     "data": {
      "text/plain": [
       "15"
      ]
     },
     "execution_count": 153,
     "metadata": {},
     "output_type": "execute_result"
    }
   ],
   "source": [
    "vec1 = np.array([1,1,1])\n",
    "vec2 = np.array([4,5,6])\n",
    "\n",
    "np.dot(vec1,vec2)"
   ]
  },
  {
   "cell_type": "code",
   "execution_count": 154,
   "id": "bc35362e-5108-47f8-a4f5-2bb2709c8f20",
   "metadata": {},
   "outputs": [],
   "source": [
    "def dotProduct(a,b):\n",
    "    c = a[0] * b[0] + a[1]*b[1] + a[2]*b[2]\n",
    "    # print(c) not really useful\n",
    "    return(c)\n",
    "    "
   ]
  },
  {
   "cell_type": "code",
   "execution_count": 155,
   "id": "9a1b8c01-dd4d-4fc9-935a-b9828742dd98",
   "metadata": {},
   "outputs": [
    {
     "data": {
      "text/plain": [
       "15"
      ]
     },
     "execution_count": 155,
     "metadata": {},
     "output_type": "execute_result"
    }
   ],
   "source": [
    "d = dotProduct(vec1,vec2)\n",
    "\n",
    "d"
   ]
  },
  {
   "cell_type": "markdown",
   "id": "b6dadb70",
   "metadata": {},
   "source": [
    "Use argument keywords"
   ]
  },
  {
   "cell_type": "code",
   "execution_count": 157,
   "id": "f7177b74",
   "metadata": {},
   "outputs": [],
   "source": [
    "def personaldata(IDnumber, name, age):\n",
    "    print('ID: ' + str(IDnumber))\n",
    "    print('Name: ' + name)\n",
    "    print('Age: ' + str(age))"
   ]
  },
  {
   "cell_type": "code",
   "execution_count": 158,
   "id": "53c96767-3e45-4be4-8b24-ce8d1bf2ac94",
   "metadata": {},
   "outputs": [
    {
     "name": "stdout",
     "output_type": "stream",
     "text": [
      "ID: 555\n",
      "Name: Gus\n",
      "Age: 25\n"
     ]
    }
   ],
   "source": [
    "personaldata(555, 'Gus', 25)"
   ]
  },
  {
   "cell_type": "code",
   "execution_count": 159,
   "id": "1ca6feff-d1f1-42d3-b910-99a60d3a3fde",
   "metadata": {},
   "outputs": [
    {
     "name": "stdout",
     "output_type": "stream",
     "text": [
      "The 20th Fibonacci number is: 6765\n"
     ]
    }
   ],
   "source": [
    "def Fibonacci(n):\n",
    "    # starting values\n",
    "    a = 0\n",
    "    b = 1\n",
    "    # loop\n",
    "    for i in range (n-1) :\n",
    "        c = a + b\n",
    "        a = b\n",
    "        b = c\n",
    "    return c\n",
    "    \n",
    "n = 20\n",
    "print('The '+str(n)+\"th Fibonacci number is: \"+str(Fibonacci(n)))\n",
    "#When you want to calculate the next Fibonacci number, you have to add the two previous Fibonacci numbers. This is done with c = a + b\n",
    "#For the next step in the loop the values for a and b must be updated. So the old value a is dropped and b and c are the two numbers that\n",
    "# will be added  in the next step. "
   ]
  },
  {
   "cell_type": "markdown",
   "id": "5f84b488",
   "metadata": {},
   "source": [
    "## Plots (import matplotlib)"
   ]
  },
  {
   "cell_type": "code",
   "execution_count": 161,
   "id": "6ccb52c4",
   "metadata": {},
   "outputs": [],
   "source": [
    "import matplotlib.pyplot as plt"
   ]
  },
  {
   "cell_type": "markdown",
   "id": "b12613a9",
   "metadata": {},
   "source": [
    "### Scatter"
   ]
  },
  {
   "cell_type": "code",
   "execution_count": 163,
   "id": "705a886c",
   "metadata": {},
   "outputs": [
    {
     "data": {
      "text/plain": [
       "<matplotlib.collections.PathCollection at 0x213220fd250>"
      ]
     },
     "execution_count": 163,
     "metadata": {},
     "output_type": "execute_result"
    },
    {
     "data": {
      "image/png": "[encoded data removed]",
      "text/plain": [
       "<Figure size 640x480 with 1 Axes>"
      ]
     },
     "metadata": {},
     "output_type": "display_data"
    }
   ],
   "source": [
    "plt.scatter([1,2,3,4,5],[5,1,-1,0,2])"
   ]
  },
  {
   "cell_type": "code",
   "execution_count": 164,
   "id": "6e4f62fa-1f83-40c7-8abc-8f590ead6a2d",
   "metadata": {},
   "outputs": [],
   "source": [
    "coords1 = np.array([[1,1,1],[2,4,8],[3,9,27],[4,16,64],[5,25,125]])"
   ]
  },
  {
   "cell_type": "code",
   "execution_count": 165,
   "id": "c68e36f8-1e84-4e79-b8ce-b98e8ad8f8dd",
   "metadata": {},
   "outputs": [
    {
     "data": {
      "text/plain": [
       "array([[  1,   1,   1],\n",
       "       [  2,   4,   8],\n",
       "       [  3,   9,  27],\n",
       "       [  4,  16,  64],\n",
       "       [  5,  25, 125]])"
      ]
     },
     "execution_count": 165,
     "metadata": {},
     "output_type": "execute_result"
    }
   ],
   "source": [
    "coords1"
   ]
  },
  {
   "cell_type": "code",
   "execution_count": 166,
   "id": "d4ef8bc4-a5f9-4983-afe8-64b0f50245ec",
   "metadata": {},
   "outputs": [
    {
     "data": {
      "text/plain": [
       "array([[  1,   2,   3,   4,   5],\n",
       "       [  1,   4,   9,  16,  25],\n",
       "       [  1,   8,  27,  64, 125]])"
      ]
     },
     "execution_count": 166,
     "metadata": {},
     "output_type": "execute_result"
    }
   ],
   "source": [
    "coords1.T   #transposed so the x's, y's, etc are ordered correctly. Need correct shape. "
   ]
  },
  {
   "cell_type": "code",
   "execution_count": 167,
   "id": "69e01eb5-f372-4b80-a19a-ccd2c26e7aa1",
   "metadata": {},
   "outputs": [],
   "source": [
    "x1,y1,z1 = coords1.T  "
   ]
  },
  {
   "cell_type": "code",
   "execution_count": 168,
   "id": "d2901046-101f-4aa0-af74-dcbcb470582a",
   "metadata": {},
   "outputs": [
    {
     "data": {
      "text/plain": [
       "array([1, 2, 3, 4, 5])"
      ]
     },
     "execution_count": 168,
     "metadata": {},
     "output_type": "execute_result"
    }
   ],
   "source": [
    "x1"
   ]
  },
  {
   "cell_type": "code",
   "execution_count": 169,
   "id": "c778b8db-04e9-4de6-a49c-f2a83e962e93",
   "metadata": {},
   "outputs": [
    {
     "data": {
      "text/plain": [
       "array([ 1,  4,  9, 16, 25])"
      ]
     },
     "execution_count": 169,
     "metadata": {},
     "output_type": "execute_result"
    }
   ],
   "source": [
    "y1"
   ]
  },
  {
   "cell_type": "code",
   "execution_count": 170,
   "id": "0f32c8a9-27a4-488f-aa81-cd1734f516ec",
   "metadata": {},
   "outputs": [
    {
     "data": {
      "text/plain": [
       "array([  1,   8,  27,  64, 125])"
      ]
     },
     "execution_count": 170,
     "metadata": {},
     "output_type": "execute_result"
    }
   ],
   "source": [
    "z1"
   ]
  },
  {
   "cell_type": "code",
   "execution_count": 171,
   "id": "a97db339-7e1e-44ed-ae45-2257e000b769",
   "metadata": {},
   "outputs": [
    {
     "data": {
      "text/plain": [
       "<matplotlib.collections.PathCollection at 0x213221d5f50>"
      ]
     },
     "execution_count": 171,
     "metadata": {},
     "output_type": "execute_result"
    },
    {
     "data": {
      "image/png": "[encoded data removed]",
      "text/plain": [
       "<Figure size 640x480 with 1 Axes>"
      ]
     },
     "metadata": {},
     "output_type": "display_data"
    }
   ],
   "source": [
    "plt.xlabel('x')\n",
    "plt.ylabel('y,z')\n",
    "plt.scatter(x1,y1)\n",
    "plt.scatter(x1,z1)"
   ]
  },
  {
   "cell_type": "markdown",
   "id": "3c87de0e",
   "metadata": {},
   "source": [
    "### Plot"
   ]
  },
  {
   "cell_type": "code",
   "execution_count": 173,
   "id": "6efa51ea-5025-44bb-a1f2-d7355a97d753",
   "metadata": {},
   "outputs": [],
   "source": [
    "#make some data points\n",
    "x1 = np.linspace(0,4,101)\n",
    "y1 = 1 + 2*np.cos(3*x1)"
   ]
  },
  {
   "cell_type": "code",
   "execution_count": 174,
   "id": "d5f4b0dd",
   "metadata": {},
   "outputs": [
    {
     "data": {
      "text/plain": [
       "<matplotlib.collections.PathCollection at 0x2132235d250>"
      ]
     },
     "execution_count": 174,
     "metadata": {},
     "output_type": "execute_result"
    },
    {
     "data": {
      "image/png": "[encoded data removed]",
      "text/plain": [
       "<Figure size 640x480 with 1 Axes>"
      ]
     },
     "metadata": {},
     "output_type": "display_data"
    }
   ],
   "source": [
    "plt.scatter(x1,y1)"
   ]
  },
  {
   "cell_type": "code",
   "execution_count": 175,
   "id": "9a05bb4c-e8b6-46e0-bc5e-ff43ea8044bb",
   "metadata": {},
   "outputs": [
    {
     "data": {
      "image/png": "[encoded data removed]",
      "text/plain": [
       "<Figure size 640x480 with 1 Axes>"
      ]
     },
     "metadata": {},
     "output_type": "display_data"
    }
   ],
   "source": [
    "plt.xlim([0,8])\n",
    "plt.plot(x1,y1)  #plot instead of scatter to get a smooth line. \n",
    "\n",
    "x2 = np.linspace(4,8,101)\n",
    "y2 = 1 + 2*np.cos(3*x2)\n",
    "plt.plot(x2,y2)\n",
    "\n",
    "plt.savefig('testplot.png')  #You can look it up on your computer directory now where it is saved. See downloads on computer. "
   ]
  },
  {
   "cell_type": "markdown",
   "id": "d1533152",
   "metadata": {},
   "source": [
    "### Density plot"
   ]
  },
  {
   "cell_type": "code",
   "execution_count": 177,
   "id": "1355713c",
   "metadata": {},
   "outputs": [
    {
     "data": {
      "text/plain": [
       "array([0., 1., 2., 3., 4., 5.])"
      ]
     },
     "execution_count": 177,
     "metadata": {},
     "output_type": "execute_result"
    }
   ],
   "source": [
    "np.linspace(0,5,6) #x axis"
   ]
  },
  {
   "cell_type": "code",
   "execution_count": 312,
   "id": "e6e4b3d1-b386-4706-8e7c-0c6ca910e573",
   "metadata": {},
   "outputs": [
    {
     "data": {
      "text/plain": [
       "array([ 5.,  6.,  7.,  8.,  9., 10.])"
      ]
     },
     "execution_count": 312,
     "metadata": {},
     "output_type": "execute_result"
    }
   ],
   "source": [
    "np.linspace(5,10,6) #y axis"
   ]
  },
  {
   "cell_type": "code",
   "execution_count": 308,
   "id": "740601fb-59b9-4ffd-b367-7bc989962c66",
   "metadata": {},
   "outputs": [
    {
     "data": {
      "text/plain": [
       "[array([[0., 1., 2., 3., 4., 5.],\n",
       "        [0., 1., 2., 3., 4., 5.],\n",
       "        [0., 1., 2., 3., 4., 5.],\n",
       "        [0., 1., 2., 3., 4., 5.],\n",
       "        [0., 1., 2., 3., 4., 5.],\n",
       "        [0., 1., 2., 3., 4., 5.]]),\n",
       " array([[ 5.,  5.,  5.,  5.,  5.,  5.],\n",
       "        [ 6.,  6.,  6.,  6.,  6.,  6.],\n",
       "        [ 7.,  7.,  7.,  7.,  7.,  7.],\n",
       "        [ 8.,  8.,  8.,  8.,  8.,  8.],\n",
       "        [ 9.,  9.,  9.,  9.,  9.,  9.],\n",
       "        [10., 10., 10., 10., 10., 10.]])]"
      ]
     },
     "execution_count": 308,
     "metadata": {},
     "output_type": "execute_result"
    }
   ],
   "source": [
    "np.meshgrid(\n",
    "    np.linspace(0,5,6),\n",
    "    np.linspace(5,10,6)\n",
    ")"
   ]
  },
  {
   "cell_type": "code",
   "execution_count": 310,
   "id": "a80cf015-fc78-4622-b094-6e9f993db7eb",
   "metadata": {},
   "outputs": [
    {
     "data": {
      "text/plain": [
       "array([[[ 0.,  5.],\n",
       "        [ 0.,  6.],\n",
       "        [ 0.,  7.],\n",
       "        [ 0.,  8.],\n",
       "        [ 0.,  9.],\n",
       "        [ 0., 10.]],\n",
       "\n",
       "       [[ 1.,  5.],\n",
       "        [ 1.,  6.],\n",
       "        [ 1.,  7.],\n",
       "        [ 1.,  8.],\n",
       "        [ 1.,  9.],\n",
       "        [ 1., 10.]],\n",
       "\n",
       "       [[ 2.,  5.],\n",
       "        [ 2.,  6.],\n",
       "        [ 2.,  7.],\n",
       "        [ 2.,  8.],\n",
       "        [ 2.,  9.],\n",
       "        [ 2., 10.]],\n",
       "\n",
       "       [[ 3.,  5.],\n",
       "        [ 3.,  6.],\n",
       "        [ 3.,  7.],\n",
       "        [ 3.,  8.],\n",
       "        [ 3.,  9.],\n",
       "        [ 3., 10.]],\n",
       "\n",
       "       [[ 4.,  5.],\n",
       "        [ 4.,  6.],\n",
       "        [ 4.,  7.],\n",
       "        [ 4.,  8.],\n",
       "        [ 4.,  9.],\n",
       "        [ 4., 10.]],\n",
       "\n",
       "       [[ 5.,  5.],\n",
       "        [ 5.,  6.],\n",
       "        [ 5.,  7.],\n",
       "        [ 5.,  8.],\n",
       "        [ 5.,  9.],\n",
       "        [ 5., 10.]]])"
      ]
     },
     "execution_count": 310,
     "metadata": {},
     "output_type": "execute_result"
    }
   ],
   "source": [
    "np.transpose(\n",
    "    np.meshgrid(\n",
    "        np.linspace(0,5,6),\n",
    "        np.linspace(5,10,6)\n",
    "    )\n",
    ")"
   ]
  },
  {
   "cell_type": "markdown",
   "id": "75d4f04e",
   "metadata": {},
   "source": [
    "### 3d plots"
   ]
  },
  {
   "cell_type": "code",
   "execution_count": 338,
   "id": "5dc21aa2-e1c4-49d4-b96e-464a7682800a",
   "metadata": {},
   "outputs": [],
   "source": [
    "import matplotlib.pyplot as plt\n",
    "x2,y2=np.meshgrid(np.linspace(-10,10,201), np.linspace(-10,10,201))\n"
   ]
  },
  {
   "cell_type": "code",
   "execution_count": 340,
   "id": "9c035fa8-2351-490d-9be1-152c25b355c0",
   "metadata": {},
   "outputs": [
    {
     "data": {
      "text/plain": [
       "array([[-10. ,  -9.9,  -9.8, ...,   9.8,   9.9,  10. ],\n",
       "       [-10. ,  -9.9,  -9.8, ...,   9.8,   9.9,  10. ],\n",
       "       [-10. ,  -9.9,  -9.8, ...,   9.8,   9.9,  10. ],\n",
       "       ...,\n",
       "       [-10. ,  -9.9,  -9.8, ...,   9.8,   9.9,  10. ],\n",
       "       [-10. ,  -9.9,  -9.8, ...,   9.8,   9.9,  10. ],\n",
       "       [-10. ,  -9.9,  -9.8, ...,   9.8,   9.9,  10. ]])"
      ]
     },
     "execution_count": 340,
     "metadata": {},
     "output_type": "execute_result"
    }
   ],
   "source": [
    "x2"
   ]
  },
  {
   "cell_type": "code",
   "execution_count": 342,
   "id": "9841e3ee-206c-4a4e-ac8b-594ad27437c2",
   "metadata": {},
   "outputs": [],
   "source": [
    "x2 , y2 = np.meshgrid(np.linspace(-10,10,201), np.linspace(-10,10,201))\n",
    "z2 = x2 + y2**2"
   ]
  },
  {
   "cell_type": "code",
   "execution_count": 358,
   "id": "592f3a6f-4e47-40da-91f0-5dc580bbad80",
   "metadata": {},
   "outputs": [
    {
     "data": {
      "text/plain": [
       "<a list of 15 text.Text objects>"
      ]
     },
     "execution_count": 358,
     "metadata": {},
     "output_type": "execute_result"
    },
    {
     "data": {
      "image/png": "[encoded data removed]",
      "text/plain": [
       "<Figure size 640x480 with 1 Axes>"
      ]
     },
     "metadata": {},
     "output_type": "display_data"
    }
   ],
   "source": [
    "contour_plot = plt.contour(x2,y2,z2)\n",
    "plt.clabel(contour_plot, inline = 1, fontsize = 10)\n"
   ]
  },
  {
   "cell_type": "code",
   "execution_count": 364,
   "id": "96d8bda2-4445-43ea-8ba7-68ee27a6c5fd",
   "metadata": {},
   "outputs": [
    {
     "data": {
      "text/plain": [
       "<matplotlib.colorbar.Colorbar at 0x213243083d0>"
      ]
     },
     "execution_count": 364,
     "metadata": {},
     "output_type": "execute_result"
    },
    {
     "data": {
      "image/png": "[encoded data removed]",
      "text/plain": [
       "<Figure size 640x480 with 2 Axes>"
      ]
     },
     "metadata": {},
     "output_type": "display_data"
    }
   ],
   "source": [
    "x3 , y3 = np.meshgrid(np.linspace(-10,10,201), np.linspace(-10,10,201))\n",
    "z3 = np.cos(x3 +y3) + 0.05*(x3-y3)\n",
    "\n",
    "plt.contourf(x3,y3,z3)\n",
    "plt.colorbar()"
   ]
  },
  {
   "cell_type": "markdown",
   "id": "627ab7c9",
   "metadata": {},
   "source": [
    "### 3d plots"
   ]
  },
  {
   "cell_type": "code",
   "execution_count": 373,
   "id": "3d8b91b9",
   "metadata": {},
   "outputs": [
    {
     "data": {
      "text/plain": [
       "<mpl_toolkits.mplot3d.art3d.QuadContourSet3D at 0x213254c7190>"
      ]
     },
     "execution_count": 373,
     "metadata": {},
     "output_type": "execute_result"
    },
    {
     "data": {
      "image/png": "[encoded data removed]",
      "text/plain": [
       "<Figure size 640x480 with 1 Axes>"
      ]
     },
     "metadata": {},
     "output_type": "display_data"
    }
   ],
   "source": [
    "projected_plot = plt.axes(projection = '3d')\n",
    "projected_plot.view_init(70,30)\n",
    "projected_plot.contour3D(x3,y3,z3,75,cmap = 'binary')"
   ]
  },
  {
   "cell_type": "markdown",
   "id": "5961c4a6-506e-424b-a930-aa67f7affcaf",
   "metadata": {},
   "source": [
    "3d plots - lines & scatter plot"
   ]
  },
  {
   "cell_type": "code",
   "execution_count": 377,
   "id": "2541ca84-05b4-43aa-acca-cee7b6bff201",
   "metadata": {},
   "outputs": [
    {
     "data": {
      "text/plain": [
       "[<mpl_toolkits.mplot3d.art3d.Line3D at 0x2132830a6d0>]"
      ]
     },
     "execution_count": 377,
     "metadata": {},
     "output_type": "execute_result"
    },
    {
     "data": {
      "image/png": "[encoded data removed]",
      "text/plain": [
       "<Figure size 640x480 with 1 Axes>"
      ]
     },
     "metadata": {},
     "output_type": "display_data"
    }
   ],
   "source": [
    "plt3D = plt.axes(projection = '3d')\n",
    "z1 = np.linspace(0,30,301)\n",
    "x1 = np.sin(z1)\n",
    "y1 = np.cos(z1)\n",
    "plt3D.plot3D(x1,y1,z1)"
   ]
  },
  {
   "cell_type": "code",
   "execution_count": 383,
   "id": "608e1356-fc67-4743-8103-e7195ea1ab89",
   "metadata": {},
   "outputs": [
    {
     "data": {
      "text/plain": [
       "[<mpl_toolkits.mplot3d.art3d.Line3D at 0x2132717cb10>]"
      ]
     },
     "execution_count": 383,
     "metadata": {},
     "output_type": "execute_result"
    },
    {
     "data": {
      "image/png": "[encoded data removed]",
      "text/plain": [
       "<Figure size 640x480 with 1 Axes>"
      ]
     },
     "metadata": {},
     "output_type": "display_data"
    }
   ],
   "source": [
    "plt3D = plt.axes(projection = '3d')\n",
    "z1 = np.linspace(0,30,301)\n",
    "x1 = np.sin(z1)\n",
    "y1 = np.cos(z1)\n",
    "plt3D.plot3D(z1,y1,x1)  #manipulate order of x,y,z to see spiral in a different direction. "
   ]
  },
  {
   "cell_type": "code",
   "execution_count": 389,
   "id": "2b24f023-a120-4617-947d-f16b70c717b9",
   "metadata": {},
   "outputs": [
    {
     "data": {
      "text/plain": [
       "<mpl_toolkits.mplot3d.art3d.Path3DCollection at 0x213298af4d0>"
      ]
     },
     "execution_count": 389,
     "metadata": {},
     "output_type": "execute_result"
    },
    {
     "data": {
      "image/png": "[encoded data removed]",
      "text/plain": [
       "<Figure size 640x480 with 1 Axes>"
      ]
     },
     "metadata": {},
     "output_type": "display_data"
    }
   ],
   "source": [
    "plt3D = plt.axes(projection = '3d')\n",
    "z1 = np.linspace(0,30,301)\n",
    "x1 = np.sin(z1)\n",
    "y1 = np.cos(z1)\n",
    "plt.xlim([-2,2])     \n",
    "plt.ylim([-2,2])\n",
    "plt3D.scatter3D(x1,y1,z1)"
   ]
  },
  {
   "cell_type": "code",
   "execution_count": null,
   "id": "35083529-e5ba-430a-83c6-1c9017a9f268",
   "metadata": {},
   "outputs": [],
   "source": []
  }
 ],
 "metadata": {
  "kernelspec": {
   "display_name": "Python 3 (ipykernel)",
   "language": "python",
   "name": "python3"
  },
  "language_info": {
   "codemirror_mode": {
    "name": "ipython",
    "version": 3
   },
   "file_extension": ".py",
   "mimetype": "text/x-python",
   "name": "python",
   "nbconvert_exporter": "python",
   "pygments_lexer": "ipython3",
   "version": "3.11.7"
  }
 },
 "nbformat": 4,
 "nbformat_minor": 5
}
