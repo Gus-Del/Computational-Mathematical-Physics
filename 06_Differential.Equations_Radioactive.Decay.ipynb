{
 "cells": [
  {
   "cell_type": "markdown",
   "id": "0b88f670",
   "metadata": {},
   "source": [
    "# Differential equations\n",
    "\n"
   ]
  },
  {
   "cell_type": "markdown",
   "id": "7ed1b45a",
   "metadata": {},
   "source": [
    "## 1. Euler method"
   ]
  },
  {
   "cell_type": "markdown",
   "id": "86b7b82b",
   "metadata": {},
   "source": [
    "## 1.1 First order differential equation"
   ]
  },
  {
   "cell_type": "markdown",
   "id": "e05912fb",
   "metadata": {},
   "source": [
    "We try to solve the following type of differential equation\n",
    "\n",
    "\\\\( \\frac{\\mathrm{d}y}{\\mathrm{d}t} = f(t,y)\\\\)"
   ]
  },
  {
   "cell_type": "markdown",
   "id": "0127bce0",
   "metadata": {},
   "source": [
    "Since \\\\( \\frac{\\mathrm{d}y}{\\mathrm{d}t} = \\frac{y(t+h)-y(t)}{h}\\\\), we know that \\\\( y(t+h) = \\frac{\\mathrm{d}y}{\\mathrm{d}t}h + y(t)\\\\).\n",
    "\n",
    "Therefore, we can repetitively iterate the propagation: \n",
    "\n",
    "From the value \\\\( y_n \\\\) at step \\\\( n \\\\), corresponding to the time \\\\( t \\\\), we can calculate the value \\\\( y_{n+1} \\\\) at step \\\\( (n+1) \\\\), corresponding to the time \\\\( (t+h) \\\\):\n",
    "\n",
    "\\\\( y_{n+1} = y_n + \\frac{\\mathrm{d}y}{\\mathrm{d}t}h \\\\) which is \n",
    "\n",
    "\\\\( y_{n+1} = y_n + f(t,y_n) h \\\\)"
   ]
  },
  {
   "cell_type": "markdown",
   "id": "eaf63e10",
   "metadata": {},
   "source": [
    "Example 1. Radioactive decay"
   ]
  },
  {
   "cell_type": "markdown",
   "id": "82db4e00",
   "metadata": {},
   "source": [
    "\\\\( \\dot{y} = -y\\\\) or\n",
    "\n",
    "\\\\( \\frac{\\mathrm{d}y}{\\mathrm{d}t} = f(t,y) = -y\\\\)\n",
    "\n",
    "Analytical solution: \\\\( y(t)=y_0 \\exp(-t)\\\\)"
   ]
  },
  {
   "cell_type": "code",
   "execution_count": 12,
   "id": "0ae494cb",
   "metadata": {},
   "outputs": [],
   "source": [
    "import numpy as np\n",
    "from scipy import integrate\n",
    "import matplotlib.pyplot as plt "
   ]
  },
  {
   "cell_type": "code",
   "execution_count": 70,
   "id": "659099a2-8300-40c1-bb47-a0af4e20e5eb",
   "metadata": {},
   "outputs": [],
   "source": [
    "#starting value\n",
    "y = 1\n",
    "\n",
    "#Number of iterations \n",
    "nmax = 100\n",
    "\n",
    "#Stepsize \n",
    "h = 0.1\n",
    "\n",
    "#Collect data\n",
    "t_values = [0]\n",
    "y_values = [y]"
   ]
  },
  {
   "cell_type": "code",
   "execution_count": 72,
   "id": "ccd3a0f0",
   "metadata": {},
   "outputs": [],
   "source": [
    "for i in range(1, nmax+1): #when we put 1, python doesn't count from zero, it counts from 1. \n",
    "    f = -y\n",
    "    y = y + f * h\n",
    "    t_values.append(i*h)\n",
    "    y_values.append(y)"
   ]
  },
  {
   "cell_type": "code",
   "execution_count": 74,
   "id": "0ca98e25-8097-4656-bb3f-b2e8f977ed58",
   "metadata": {},
   "outputs": [
    {
     "data": {
      "text/plain": [
       "2.656139888758746e-05"
      ]
     },
     "execution_count": 74,
     "metadata": {},
     "output_type": "execute_result"
    }
   ],
   "source": [
    "y"
   ]
  },
  {
   "cell_type": "code",
   "execution_count": 76,
   "id": "4cc9ad1b-f5ff-4b24-b608-8a44b379e090",
   "metadata": {},
   "outputs": [
    {
     "data": {
      "text/plain": [
       "[0,\n",
       " 0.1,\n",
       " 0.2,\n",
       " 0.30000000000000004,\n",
       " 0.4,\n",
       " 0.5,\n",
       " 0.6000000000000001,\n",
       " 0.7000000000000001,\n",
       " 0.8,\n",
       " 0.9,\n",
       " 1.0,\n",
       " 1.1,\n",
       " 1.2000000000000002,\n",
       " 1.3,\n",
       " 1.4000000000000001,\n",
       " 1.5,\n",
       " 1.6,\n",
       " 1.7000000000000002,\n",
       " 1.8,\n",
       " 1.9000000000000001,\n",
       " 2.0,\n",
       " 2.1,\n",
       " 2.2,\n",
       " 2.3000000000000003,\n",
       " 2.4000000000000004,\n",
       " 2.5,\n",
       " 2.6,\n",
       " 2.7,\n",
       " 2.8000000000000003,\n",
       " 2.9000000000000004,\n",
       " 3.0,\n",
       " 3.1,\n",
       " 3.2,\n",
       " 3.3000000000000003,\n",
       " 3.4000000000000004,\n",
       " 3.5,\n",
       " 3.6,\n",
       " 3.7,\n",
       " 3.8000000000000003,\n",
       " 3.9000000000000004,\n",
       " 4.0,\n",
       " 4.1000000000000005,\n",
       " 4.2,\n",
       " 4.3,\n",
       " 4.4,\n",
       " 4.5,\n",
       " 4.6000000000000005,\n",
       " 4.7,\n",
       " 4.800000000000001,\n",
       " 4.9,\n",
       " 5.0,\n",
       " 5.1000000000000005,\n",
       " 5.2,\n",
       " 5.300000000000001,\n",
       " 5.4,\n",
       " 5.5,\n",
       " 5.6000000000000005,\n",
       " 5.7,\n",
       " 5.800000000000001,\n",
       " 5.9,\n",
       " 6.0,\n",
       " 6.1000000000000005,\n",
       " 6.2,\n",
       " 6.300000000000001,\n",
       " 6.4,\n",
       " 6.5,\n",
       " 6.6000000000000005,\n",
       " 6.7,\n",
       " 6.800000000000001,\n",
       " 6.9,\n",
       " 7.0,\n",
       " 7.1000000000000005,\n",
       " 7.2,\n",
       " 7.300000000000001,\n",
       " 7.4,\n",
       " 7.5,\n",
       " 7.6000000000000005,\n",
       " 7.7,\n",
       " 7.800000000000001,\n",
       " 7.9,\n",
       " 8.0,\n",
       " 8.1,\n",
       " 8.200000000000001,\n",
       " 8.3,\n",
       " 8.4,\n",
       " 8.5,\n",
       " 8.6,\n",
       " 8.700000000000001,\n",
       " 8.8,\n",
       " 8.9,\n",
       " 9.0,\n",
       " 9.1,\n",
       " 9.200000000000001,\n",
       " 9.3,\n",
       " 9.4,\n",
       " 9.5,\n",
       " 9.600000000000001,\n",
       " 9.700000000000001,\n",
       " 9.8,\n",
       " 9.9,\n",
       " 10.0]"
      ]
     },
     "execution_count": 76,
     "metadata": {},
     "output_type": "execute_result"
    }
   ],
   "source": [
    "t_values"
   ]
  },
  {
   "cell_type": "code",
   "execution_count": 78,
   "id": "a88b801d-e8d2-42c7-b466-6866af61b686",
   "metadata": {},
   "outputs": [
    {
     "data": {
      "text/plain": [
       "4.5399929762484854e-05"
      ]
     },
     "execution_count": 78,
     "metadata": {},
     "output_type": "execute_result"
    }
   ],
   "source": [
    "np.exp(-nmax*h)"
   ]
  },
  {
   "cell_type": "code",
   "execution_count": 80,
   "id": "b005b84f-9f2b-459c-a615-f99bc04dd253",
   "metadata": {},
   "outputs": [
    {
     "data": {
      "text/plain": [
       "<matplotlib.collections.PathCollection at 0x1dd11976010>"
      ]
     },
     "execution_count": 80,
     "metadata": {},
     "output_type": "execute_result"
    },
    {
     "data": {
      "image/png": "[encoded data removed]",
      "text/plain": [
       "<Figure size 640x480 with 1 Axes>"
      ]
     },
     "metadata": {},
     "output_type": "display_data"
    }
   ],
   "source": [
    "plt.scatter(t_values, y_values, color ='blue')\n",
    "\n",
    "#write linspace to compare with analytical solution\n",
    "\n",
    "test_t = np.linspace(0,nmax*h,nmax)\n",
    "test_y = 1*np.exp(-test_t)\n",
    "plt.plot(test_t, test_y, 'red')\n",
    "\n",
    "plt.xlabel('t')\n",
    "plt.ylabel('y')\n",
    "plt.scatter(t_values, y_values)\n",
    "#Note the blue points are the numerical solution and the red is the analytical solution. \n",
    "#you can increase the number of iterations above to notice how it looks different. "
   ]
  },
  {
   "cell_type": "markdown",
   "id": "5af1c96a",
   "metadata": {},
   "source": [
    "### Define a function that mimics the above "
   ]
  },
  {
   "cell_type": "code",
   "execution_count": 91,
   "id": "4753714b",
   "metadata": {},
   "outputs": [],
   "source": [
    "def eulerODE(f, t0,y0,nmax,h):\n",
    "    #f: Function\n",
    "    #t0: Starting time\n",
    "    #y0: starting value of y\n",
    "    #nmax: Number of iterations\n",
    "    #h: Stepsize\n",
    "    y = y0\n",
    "    t = t0\n",
    "    t_values = [t]\n",
    "    y_values = [y]\n",
    "    for i in range(1, nmax+1): #when we put 1, python doesn't count from zero, it counts from 1. \n",
    "        y = y + f(t,y) * h\n",
    "        t = t + h\n",
    "        t_values.append(t)\n",
    "        y_values.append(y)\n",
    "    return np.array([t_values, y_values]) #use return, instead of print, so we can assign these values to variables\n",
    "#all of this gives no output. What we need is to call this function and provide arguments. "
   ]
  },
  {
   "cell_type": "code",
   "execution_count": 95,
   "id": "7d0f3524-eb1f-4ca5-b8b1-b03a4e45c697",
   "metadata": {},
   "outputs": [],
   "source": [
    "#define function\n",
    "def f_ODE(t,y):\n",
    "    return -y\n",
    "\n",
    "\n",
    "# Euler method\n",
    "t0 = 0\n",
    "y0 = 1\n",
    "nmax = 100\n",
    "h = 0.1\n",
    "\n",
    "solution = eulerODE(f_ODE, t0,y0,nmax, h) "
   ]
  },
  {
   "cell_type": "code",
   "execution_count": 99,
   "id": "c2aee279-e2b1-49a0-9236-e4879cbd066f",
   "metadata": {},
   "outputs": [
    {
     "data": {
      "text/plain": [
       "<matplotlib.collections.PathCollection at 0x1dd11976d90>"
      ]
     },
     "execution_count": 99,
     "metadata": {},
     "output_type": "execute_result"
    },
    {
     "data": {
      "image/png": "[encoded data removed]",
      "text/plain": [
       "<Figure size 640x480 with 1 Axes>"
      ]
     },
     "metadata": {},
     "output_type": "display_data"
    }
   ],
   "source": [
    "test_t = np.linspace(0,nmax*h,nmax)\n",
    "test_y = 1*np.exp(-test_t)\n",
    "plt.plot(test_t, test_y, 'red')\n",
    "\n",
    "plt.xlabel('t')\n",
    "plt.ylabel('y')\n",
    "plt.scatter(solution[0], solution[1])\n",
    "#notice the plot gives the same as before by using a different method of defining a function.  "
   ]
  }
 ],
 "metadata": {
  "kernelspec": {
   "display_name": "Python 3 (ipykernel)",
   "language": "python",
   "name": "python3"
  },
  "language_info": {
   "codemirror_mode": {
    "name": "ipython",
    "version": 3
   },
   "file_extension": ".py",
   "mimetype": "text/x-python",
   "name": "python",
   "nbconvert_exporter": "python",
   "pygments_lexer": "ipython3",
   "version": "3.11.7"
  }
 },
 "nbformat": 4,
 "nbformat_minor": 5
}
